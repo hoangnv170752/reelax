{
 "cells": [
  {
   "cell_type": "code",
   "execution_count": 17,
   "id": "e83d1563",
   "metadata": {},
   "outputs": [
    {
     "name": "stdout",
     "output_type": "stream",
     "text": [
      "Transcribed text: I've had some indication that the audio on this iPad 6th generation device for videos is inadequate, not loud enough. So I'm going to run it, just this little test audio, through Movie Maker as I always run the videos through. But I'm going to try enhancing the volume. And then you can compare this with the other, well, just the one that appears in the roster right after it, having to do with controlling, remote controlling an antenna system. I will leave comments open. Please let me know what you think. Stan Jablisko signing off. Until next time, so long. Go to Beadaholique.com for all of your beading supply needs!\n"
     ]
    }
   ],
   "source": [
    "from openai import OpenAI\n",
    "import os\n",
    "from dotenv import load_dotenv\n",
    "\n",
    "# Load .env file\n",
    "load_dotenv()\n",
    "\n",
    "def transcribe_audio_with_whisper(audio_path):\n",
    "    client = OpenAI(api_key=os.getenv(\"NEXT_PUBLIC_OPENAI_API_KEY\"))\n",
    "    try:\n",
    "        with open(audio_path, \"rb\") as audio_file:\n",
    "            transcript = client.audio.transcriptions.create(\n",
    "                model=\"whisper-1\",\n",
    "                file=audio_file\n",
    "            )\n",
    "        return transcript.text\n",
    "    except Exception as e:\n",
    "        print(f\"Error transcribing audio: {e}\")\n",
    "        return None\n",
    "\n",
    "transcribed_text = transcribe_audio_with_whisper(\"Voice Audio Test.mp4\")\n",
    "\n",
    "if transcribed_text:\n",
    "    print(\"Transcribed text:\", transcribed_text)\n"
   ]
  },
  {
   "cell_type": "code",
   "execution_count": null,
   "id": "c31e6cc5",
   "metadata": {},
   "outputs": [
    {
     "name": "stdout",
     "output_type": "stream",
     "text": [
      "Sure! Here’s a thumbnail idea and suggested content text based on your provided description.\n",
      "\n",
      "---\n",
      "\n",
      "**Thumbnail Description:**\n",
      "\n",
      "- **Main Visual Elements:**\n",
      "  - Photo (or illustration) of an iPad 6th generation prominently displayed.\n",
      "  - A large red \"Volume Up\" icon or soundwave graphic overlaying one edge of the iPad.\n",
      "  - Text on the thumbnail: \n",
      "    - Top: “iPad 6th Gen Audio Test!”\n",
      "    - Bottom: “Is it LOUD Enough? 🔊”\n",
      "  - Optionally, a side-by-side comparison image (one showing lower sound bars and one after “enhancement” with higher sound bars).\n",
      "- **Background:**\n",
      "  - Simple and clean (perhaps blue or white gradient) to keep focus on the iPad and volume icon.\n",
      "- **Extra Details:**\n",
      "  - Include your name “Stan Jablisko” in small text at the bottom corner for branding.\n",
      "\n",
      "---\n",
      "\n",
      "**Suggested Content:**\n",
      "\n",
      "*Video Title:*  \n",
      "**iPad 6th Gen Audio Test — Volume Enhanced! (Movie Maker Edit)**\n",
      "\n",
      "*Video Description:*  \n",
      "I've noticed the audio on this iPad 6th generation wasn’t quite loud enough when playing videos. In this video, I’ll test it out by running the same audio through Movie Maker with enhanced volume. Watch, listen, and then compare this test with the next video in my roster about remote controlling an antenna system.  \n",
      "**Let me know your thoughts in the comments below!**  \n",
      "— Stan Jablisko\n",
      "\n",
      "---\n",
      "\n",
      "Let me know if you need the actual thumbnail image designed, or if you’d like variations!\n"
     ]
    }
   ],
   "source": [
    "from openai import OpenAI\n",
    "\n",
    "client = OpenAI(api_key=os.getenv(\"NEXT_PUBLIC_OPENAI_API_KEY\"))\n",
    "\n",
    "\n",
    "completion = client.chat.completions.create(\n",
    "    model=\"gpt-4.1\",\n",
    "    messages=[\n",
    "        {\n",
    "            \"role\": \"user\",\n",
    "            \"content\": f'{transcribed_text}'\n",
    "        }\n",
    "    ]\n",
    ")\n",
    "\n",
    "print(completion.choices[0].message.content)"
   ]
  },
  {
   "cell_type": "code",
   "execution_count": null,
   "id": "a8db40b0",
   "metadata": {},
   "outputs": [],
   "source": []
  }
 ],
 "metadata": {
  "kernelspec": {
   "display_name": "QLOO-wwZ6J8kM",
   "language": "python",
   "name": "python3"
  },
  "language_info": {
   "codemirror_mode": {
    "name": "ipython",
    "version": 3
   },
   "file_extension": ".py",
   "mimetype": "text/x-python",
   "name": "python",
   "nbconvert_exporter": "python",
   "pygments_lexer": "ipython3",
   "version": "3.10.18"
  }
 },
 "nbformat": 4,
 "nbformat_minor": 5
}
